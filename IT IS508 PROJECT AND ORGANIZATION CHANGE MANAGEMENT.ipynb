{
 "cells": [
  {
   "cell_type": "code",
   "execution_count": 1,
   "id": "excess-puppy",
   "metadata": {},
   "outputs": [
    {
     "name": "stdout",
     "output_type": "stream",
     "text": [
      "Collecting seaborn\n",
      "  Downloading seaborn-0.11.1-py3-none-any.whl (285 kB)\n",
      "\u001b[K     |████████████████████████████████| 285 kB 16.4 MB/s eta 0:00:01\n",
      "\u001b[?25hRequirement already satisfied: pandas>=0.23 in /srv/conda/envs/notebook/lib/python3.6/site-packages (from seaborn) (1.1.5)\n",
      "Requirement already satisfied: scipy>=1.0 in /srv/conda/envs/notebook/lib/python3.6/site-packages (from seaborn) (1.5.3)\n",
      "Requirement already satisfied: matplotlib>=2.2 in /srv/conda/envs/notebook/lib/python3.6/site-packages (from seaborn) (3.3.4)\n",
      "Requirement already satisfied: numpy>=1.15 in /srv/conda/envs/notebook/lib/python3.6/site-packages (from seaborn) (1.19.5)\n",
      "Requirement already satisfied: python-dateutil>=2.1 in /srv/conda/envs/notebook/lib/python3.6/site-packages (from matplotlib>=2.2->seaborn) (2.8.1)\n",
      "Requirement already satisfied: cycler>=0.10 in /srv/conda/envs/notebook/lib/python3.6/site-packages/cycler-0.10.0-py3.6.egg (from matplotlib>=2.2->seaborn) (0.10.0)\n",
      "Requirement already satisfied: pyparsing!=2.0.4,!=2.1.2,!=2.1.6,>=2.0.3 in /srv/conda/envs/notebook/lib/python3.6/site-packages (from matplotlib>=2.2->seaborn) (2.4.7)\n",
      "Requirement already satisfied: kiwisolver>=1.0.1 in /srv/conda/envs/notebook/lib/python3.6/site-packages (from matplotlib>=2.2->seaborn) (1.3.1)\n",
      "Requirement already satisfied: pillow>=6.2.0 in /srv/conda/envs/notebook/lib/python3.6/site-packages (from matplotlib>=2.2->seaborn) (8.2.0)\n",
      "Requirement already satisfied: six in /srv/conda/envs/notebook/lib/python3.6/site-packages (from cycler>=0.10->matplotlib>=2.2->seaborn) (1.15.0)\n",
      "Requirement already satisfied: pytz>=2017.2 in /srv/conda/envs/notebook/lib/python3.6/site-packages (from pandas>=0.23->seaborn) (2021.1)\n",
      "Installing collected packages: seaborn\n",
      "Successfully installed seaborn-0.11.1\n"
     ]
    }
   ],
   "source": [
    "#importing libraries\n",
    "! pip install seaborn\n",
    "import pandas as pd\n",
    "import matplotlib.pyplot as plt\n",
    "import numpy as np\n",
    "import seaborn as sns\n",
    "from sklearn.pipeline import Pipeline\n",
    "from sklearn.preprocessing import StandardScaler,PolynomialFeatures\n",
    "%matplotlib inline"
   ]
  },
  {
   "cell_type": "code",
   "execution_count": 2,
   "id": "infectious-lobby",
   "metadata": {},
   "outputs": [],
   "source": [
    "file=pd.read_csv(\"WHO COVID-19 global table data July 10th 2021 at 1.47.08 PM.csv\",sep=\",\")"
   ]
  },
  {
   "cell_type": "code",
   "execution_count": 3,
   "id": "intelligent-survivor",
   "metadata": {},
   "outputs": [
    {
     "data": {
      "text/html": [
       "<div>\n",
       "<style scoped>\n",
       "    .dataframe tbody tr th:only-of-type {\n",
       "        vertical-align: middle;\n",
       "    }\n",
       "\n",
       "    .dataframe tbody tr th {\n",
       "        vertical-align: top;\n",
       "    }\n",
       "\n",
       "    .dataframe thead th {\n",
       "        text-align: right;\n",
       "    }\n",
       "</style>\n",
       "<table border=\"1\" class=\"dataframe\">\n",
       "  <thead>\n",
       "    <tr style=\"text-align: right;\">\n",
       "      <th></th>\n",
       "      <th>Name</th>\n",
       "      <th>WHO Region</th>\n",
       "      <th>Cases - cumulative total</th>\n",
       "      <th>Cases - cumulative total per 100000 population</th>\n",
       "      <th>Cases - newly reported in last 7 days</th>\n",
       "      <th>Cases - newly reported in last 7 days per 100000 population</th>\n",
       "      <th>Cases - newly reported in last 24 hours</th>\n",
       "      <th>Deaths - cumulative total</th>\n",
       "      <th>Deaths - cumulative total per 100000 population</th>\n",
       "      <th>Deaths - newly reported in last 7 days</th>\n",
       "      <th>Deaths - newly reported in last 7 days per 100000 population</th>\n",
       "      <th>Deaths - newly reported in last 24 hours</th>\n",
       "      <th>Transmission Classification</th>\n",
       "    </tr>\n",
       "  </thead>\n",
       "  <tbody>\n",
       "    <tr>\n",
       "      <th>0</th>\n",
       "      <td>Global</td>\n",
       "      <td>NaN</td>\n",
       "      <td>185291530</td>\n",
       "      <td>2377.196364</td>\n",
       "      <td>2906590</td>\n",
       "      <td>37.290076</td>\n",
       "      <td>458355</td>\n",
       "      <td>4010834</td>\n",
       "      <td>51.456966</td>\n",
       "      <td>55457</td>\n",
       "      <td>0.711485</td>\n",
       "      <td>8516</td>\n",
       "      <td>NaN</td>\n",
       "    </tr>\n",
       "    <tr>\n",
       "      <th>1</th>\n",
       "      <td>United States of America</td>\n",
       "      <td>Americas</td>\n",
       "      <td>33451965</td>\n",
       "      <td>10106.250000</td>\n",
       "      <td>108004</td>\n",
       "      <td>32.630000</td>\n",
       "      <td>22569</td>\n",
       "      <td>601231</td>\n",
       "      <td>181.640000</td>\n",
       "      <td>1551</td>\n",
       "      <td>0.470000</td>\n",
       "      <td>301</td>\n",
       "      <td>Community transmission</td>\n",
       "    </tr>\n",
       "    <tr>\n",
       "      <th>2</th>\n",
       "      <td>India</td>\n",
       "      <td>South-East Asia</td>\n",
       "      <td>30752950</td>\n",
       "      <td>2228.470000</td>\n",
       "      <td>294699</td>\n",
       "      <td>21.350000</td>\n",
       "      <td>43393</td>\n",
       "      <td>405939</td>\n",
       "      <td>29.420000</td>\n",
       "      <td>5627</td>\n",
       "      <td>0.410000</td>\n",
       "      <td>911</td>\n",
       "      <td>Clusters of cases</td>\n",
       "    </tr>\n",
       "    <tr>\n",
       "      <th>3</th>\n",
       "      <td>Brazil</td>\n",
       "      <td>Americas</td>\n",
       "      <td>18909037</td>\n",
       "      <td>8895.880000</td>\n",
       "      <td>351896</td>\n",
       "      <td>165.550000</td>\n",
       "      <td>54022</td>\n",
       "      <td>528540</td>\n",
       "      <td>248.660000</td>\n",
       "      <td>10474</td>\n",
       "      <td>4.930000</td>\n",
       "      <td>1648</td>\n",
       "      <td>Community transmission</td>\n",
       "    </tr>\n",
       "    <tr>\n",
       "      <th>4</th>\n",
       "      <td>Russian Federation</td>\n",
       "      <td>Europe</td>\n",
       "      <td>5733218</td>\n",
       "      <td>3928.630000</td>\n",
       "      <td>171858</td>\n",
       "      <td>117.760000</td>\n",
       "      <td>25766</td>\n",
       "      <td>141501</td>\n",
       "      <td>96.960000</td>\n",
       "      <td>4936</td>\n",
       "      <td>3.380000</td>\n",
       "      <td>726</td>\n",
       "      <td>Clusters of cases</td>\n",
       "    </tr>\n",
       "  </tbody>\n",
       "</table>\n",
       "</div>"
      ],
      "text/plain": [
       "                       Name       WHO Region  Cases - cumulative total  \\\n",
       "0                    Global              NaN                 185291530   \n",
       "1  United States of America         Americas                  33451965   \n",
       "2                     India  South-East Asia                  30752950   \n",
       "3                    Brazil         Americas                  18909037   \n",
       "4        Russian Federation           Europe                   5733218   \n",
       "\n",
       "   Cases - cumulative total per 100000 population  \\\n",
       "0                                     2377.196364   \n",
       "1                                    10106.250000   \n",
       "2                                     2228.470000   \n",
       "3                                     8895.880000   \n",
       "4                                     3928.630000   \n",
       "\n",
       "   Cases - newly reported in last 7 days  \\\n",
       "0                                2906590   \n",
       "1                                 108004   \n",
       "2                                 294699   \n",
       "3                                 351896   \n",
       "4                                 171858   \n",
       "\n",
       "   Cases - newly reported in last 7 days per 100000 population  \\\n",
       "0                                          37.290076             \n",
       "1                                          32.630000             \n",
       "2                                          21.350000             \n",
       "3                                         165.550000             \n",
       "4                                         117.760000             \n",
       "\n",
       "   Cases - newly reported in last 24 hours  Deaths - cumulative total  \\\n",
       "0                                   458355                    4010834   \n",
       "1                                    22569                     601231   \n",
       "2                                    43393                     405939   \n",
       "3                                    54022                     528540   \n",
       "4                                    25766                     141501   \n",
       "\n",
       "   Deaths - cumulative total per 100000 population  \\\n",
       "0                                        51.456966   \n",
       "1                                       181.640000   \n",
       "2                                        29.420000   \n",
       "3                                       248.660000   \n",
       "4                                        96.960000   \n",
       "\n",
       "   Deaths - newly reported in last 7 days  \\\n",
       "0                                   55457   \n",
       "1                                    1551   \n",
       "2                                    5627   \n",
       "3                                   10474   \n",
       "4                                    4936   \n",
       "\n",
       "   Deaths - newly reported in last 7 days per 100000 population  \\\n",
       "0                                           0.711485              \n",
       "1                                           0.470000              \n",
       "2                                           0.410000              \n",
       "3                                           4.930000              \n",
       "4                                           3.380000              \n",
       "\n",
       "   Deaths - newly reported in last 24 hours Transmission Classification  \n",
       "0                                      8516                         NaN  \n",
       "1                                       301      Community transmission  \n",
       "2                                       911           Clusters of cases  \n",
       "3                                      1648      Community transmission  \n",
       "4                                       726           Clusters of cases  "
      ]
     },
     "execution_count": 3,
     "metadata": {},
     "output_type": "execute_result"
    }
   ],
   "source": [
    "#file rows\n",
    "file.head()"
   ]
  },
  {
   "cell_type": "code",
   "execution_count": 4,
   "id": "smart-punishment",
   "metadata": {},
   "outputs": [],
   "source": [
    "#Only Americas data\n",
    "new_file=file.loc[(file[\"WHO Region\"]==\"Americas\")]\n"
   ]
  },
  {
   "cell_type": "code",
   "execution_count": 5,
   "id": "altered-butterfly",
   "metadata": {},
   "outputs": [
    {
     "data": {
      "text/html": [
       "<div>\n",
       "<style scoped>\n",
       "    .dataframe tbody tr th:only-of-type {\n",
       "        vertical-align: middle;\n",
       "    }\n",
       "\n",
       "    .dataframe tbody tr th {\n",
       "        vertical-align: top;\n",
       "    }\n",
       "\n",
       "    .dataframe thead th {\n",
       "        text-align: right;\n",
       "    }\n",
       "</style>\n",
       "<table border=\"1\" class=\"dataframe\">\n",
       "  <thead>\n",
       "    <tr style=\"text-align: right;\">\n",
       "      <th></th>\n",
       "      <th>Name</th>\n",
       "      <th>WHO Region</th>\n",
       "      <th>Cases - cumulative total</th>\n",
       "      <th>Cases - cumulative total per 100000 population</th>\n",
       "      <th>Cases - newly reported in last 7 days</th>\n",
       "      <th>Cases - newly reported in last 7 days per 100000 population</th>\n",
       "      <th>Cases - newly reported in last 24 hours</th>\n",
       "      <th>Deaths - cumulative total</th>\n",
       "      <th>Deaths - cumulative total per 100000 population</th>\n",
       "      <th>Deaths - newly reported in last 7 days</th>\n",
       "      <th>Deaths - newly reported in last 7 days per 100000 population</th>\n",
       "      <th>Deaths - newly reported in last 24 hours</th>\n",
       "      <th>Transmission Classification</th>\n",
       "    </tr>\n",
       "  </thead>\n",
       "  <tbody>\n",
       "    <tr>\n",
       "      <th>1</th>\n",
       "      <td>United States of America</td>\n",
       "      <td>Americas</td>\n",
       "      <td>33451965</td>\n",
       "      <td>10106.25</td>\n",
       "      <td>108004</td>\n",
       "      <td>32.63</td>\n",
       "      <td>22569</td>\n",
       "      <td>601231</td>\n",
       "      <td>181.64</td>\n",
       "      <td>1551</td>\n",
       "      <td>0.47</td>\n",
       "      <td>301</td>\n",
       "      <td>Community transmission</td>\n",
       "    </tr>\n",
       "    <tr>\n",
       "      <th>3</th>\n",
       "      <td>Brazil</td>\n",
       "      <td>Americas</td>\n",
       "      <td>18909037</td>\n",
       "      <td>8895.88</td>\n",
       "      <td>351896</td>\n",
       "      <td>165.55</td>\n",
       "      <td>54022</td>\n",
       "      <td>528540</td>\n",
       "      <td>248.66</td>\n",
       "      <td>10474</td>\n",
       "      <td>4.93</td>\n",
       "      <td>1648</td>\n",
       "      <td>Community transmission</td>\n",
       "    </tr>\n",
       "    <tr>\n",
       "      <th>8</th>\n",
       "      <td>Argentina</td>\n",
       "      <td>Americas</td>\n",
       "      <td>4593763</td>\n",
       "      <td>10164.14</td>\n",
       "      <td>123389</td>\n",
       "      <td>273.01</td>\n",
       "      <td>19423</td>\n",
       "      <td>97439</td>\n",
       "      <td>215.59</td>\n",
       "      <td>3135</td>\n",
       "      <td>6.94</td>\n",
       "      <td>456</td>\n",
       "      <td>Community transmission</td>\n",
       "    </tr>\n",
       "    <tr>\n",
       "      <th>9</th>\n",
       "      <td>Colombia</td>\n",
       "      <td>Americas</td>\n",
       "      <td>4426811</td>\n",
       "      <td>8700.00</td>\n",
       "      <td>185829</td>\n",
       "      <td>365.21</td>\n",
       "      <td>24229</td>\n",
       "      <td>110578</td>\n",
       "      <td>217.32</td>\n",
       "      <td>4034</td>\n",
       "      <td>7.93</td>\n",
       "      <td>559</td>\n",
       "      <td>Community transmission</td>\n",
       "    </tr>\n",
       "    <tr>\n",
       "      <th>15</th>\n",
       "      <td>Mexico</td>\n",
       "      <td>Americas</td>\n",
       "      <td>2558369</td>\n",
       "      <td>1984.27</td>\n",
       "      <td>39100</td>\n",
       "      <td>30.33</td>\n",
       "      <td>8507</td>\n",
       "      <td>234192</td>\n",
       "      <td>181.64</td>\n",
       "      <td>1145</td>\n",
       "      <td>0.89</td>\n",
       "      <td>234</td>\n",
       "      <td>Community transmission</td>\n",
       "    </tr>\n",
       "  </tbody>\n",
       "</table>\n",
       "</div>"
      ],
      "text/plain": [
       "                        Name WHO Region  Cases - cumulative total  \\\n",
       "1   United States of America   Americas                  33451965   \n",
       "3                     Brazil   Americas                  18909037   \n",
       "8                  Argentina   Americas                   4593763   \n",
       "9                   Colombia   Americas                   4426811   \n",
       "15                    Mexico   Americas                   2558369   \n",
       "\n",
       "    Cases - cumulative total per 100000 population  \\\n",
       "1                                         10106.25   \n",
       "3                                          8895.88   \n",
       "8                                         10164.14   \n",
       "9                                          8700.00   \n",
       "15                                         1984.27   \n",
       "\n",
       "    Cases - newly reported in last 7 days  \\\n",
       "1                                  108004   \n",
       "3                                  351896   \n",
       "8                                  123389   \n",
       "9                                  185829   \n",
       "15                                  39100   \n",
       "\n",
       "    Cases - newly reported in last 7 days per 100000 population  \\\n",
       "1                                               32.63             \n",
       "3                                              165.55             \n",
       "8                                              273.01             \n",
       "9                                              365.21             \n",
       "15                                              30.33             \n",
       "\n",
       "    Cases - newly reported in last 24 hours  Deaths - cumulative total  \\\n",
       "1                                     22569                     601231   \n",
       "3                                     54022                     528540   \n",
       "8                                     19423                      97439   \n",
       "9                                     24229                     110578   \n",
       "15                                     8507                     234192   \n",
       "\n",
       "    Deaths - cumulative total per 100000 population  \\\n",
       "1                                            181.64   \n",
       "3                                            248.66   \n",
       "8                                            215.59   \n",
       "9                                            217.32   \n",
       "15                                           181.64   \n",
       "\n",
       "    Deaths - newly reported in last 7 days  \\\n",
       "1                                     1551   \n",
       "3                                    10474   \n",
       "8                                     3135   \n",
       "9                                     4034   \n",
       "15                                    1145   \n",
       "\n",
       "    Deaths - newly reported in last 7 days per 100000 population  \\\n",
       "1                                                0.47              \n",
       "3                                                4.93              \n",
       "8                                                6.94              \n",
       "9                                                7.93              \n",
       "15                                               0.89              \n",
       "\n",
       "    Deaths - newly reported in last 24 hours Transmission Classification  \n",
       "1                                        301      Community transmission  \n",
       "3                                       1648      Community transmission  \n",
       "8                                        456      Community transmission  \n",
       "9                                        559      Community transmission  \n",
       "15                                       234      Community transmission  "
      ]
     },
     "execution_count": 5,
     "metadata": {},
     "output_type": "execute_result"
    }
   ],
   "source": [
    "#file rows\n",
    "new_file.head()"
   ]
  },
  {
   "cell_type": "code",
   "execution_count": 6,
   "id": "expensive-government",
   "metadata": {},
   "outputs": [
    {
     "name": "stderr",
     "output_type": "stream",
     "text": [
      "/srv/conda/envs/notebook/lib/python3.6/site-packages/pandas/core/frame.py:4308: SettingWithCopyWarning: \n",
      "A value is trying to be set on a copy of a slice from a DataFrame\n",
      "\n",
      "See the caveats in the documentation: https://pandas.pydata.org/pandas-docs/stable/user_guide/indexing.html#returning-a-view-versus-a-copy\n",
      "  errors=errors,\n"
     ]
    }
   ],
   "source": [
    "#load file\n",
    "#Renaming some columns to make it easy to read' \n",
    "new_file.rename(columns = {'Name':'Country','Cases - cumulative total':'Cases(Cum.Total)', \n",
    "                         'Cases - cumulative total per 100000 population':'Cases(Cum.Total)per 100000 population', \n",
    "                         'Cases - newly reported in last 7 days':'Cases(last 7 days)', \n",
    "                         'Cases - newly reported in last 7 days per 100000 population':'Cases(last 7 days)per 100000 population', \n",
    "                         'Cases - newly reported in last 24 hours':'Cases(last 24 hours)', \n",
    "                         'Deaths - cumulative total':'Deaths(Cum.Total)','Deaths - cumulative total per 100000 population':\n",
    "                         'Deaths(Cum.Total) per 100000 population', 'Deaths reported in last 7 days':\n",
    "                         'Deaths(last 7 days)','Deaths - newly reported in last 7 days per 100000 population':\n",
    "                         'Deaths(last 7 days)per 100000 population','Deaths - newly reported in last 24 hours':\n",
    "                         'Deaths(last 24 hours)'}, inplace = True)\n",
    "\n"
   ]
  },
  {
   "cell_type": "code",
   "execution_count": 7,
   "id": "cultural-valley",
   "metadata": {},
   "outputs": [
    {
     "name": "stdout",
     "output_type": "stream",
     "text": [
      "<class 'pandas.core.frame.DataFrame'>\n",
      "Int64Index: 56 entries, 1 to 220\n",
      "Data columns (total 13 columns):\n",
      " #   Column                                    Non-Null Count  Dtype  \n",
      "---  ------                                    --------------  -----  \n",
      " 0   Country                                   56 non-null     object \n",
      " 1   WHO Region                                56 non-null     object \n",
      " 2   Cases(Cum.Total)                          56 non-null     int64  \n",
      " 3   Cases(Cum.Total)per 100000 population     56 non-null     float64\n",
      " 4   Cases(last 7 days)                        56 non-null     int64  \n",
      " 5   Cases(last 7 days)per 100000 population   56 non-null     float64\n",
      " 6   Cases(last 24 hours)                      56 non-null     int64  \n",
      " 7   Deaths(Cum.Total)                         56 non-null     int64  \n",
      " 8   Deaths(Cum.Total) per 100000 population   56 non-null     float64\n",
      " 9   Deaths - newly reported in last 7 days    56 non-null     int64  \n",
      " 10  Deaths(last 7 days)per 100000 population  56 non-null     float64\n",
      " 11  Deaths(last 24 hours)                     56 non-null     int64  \n",
      " 12  Transmission Classification               56 non-null     object \n",
      "dtypes: float64(4), int64(6), object(3)\n",
      "memory usage: 6.1+ KB\n"
     ]
    }
   ],
   "source": [
    "#data set summary\n",
    "new_file.info()"
   ]
  },
  {
   "cell_type": "code",
   "execution_count": 8,
   "id": "equipped-token",
   "metadata": {},
   "outputs": [
    {
     "data": {
      "text/html": [
       "<div>\n",
       "<style scoped>\n",
       "    .dataframe tbody tr th:only-of-type {\n",
       "        vertical-align: middle;\n",
       "    }\n",
       "\n",
       "    .dataframe tbody tr th {\n",
       "        vertical-align: top;\n",
       "    }\n",
       "\n",
       "    .dataframe thead th {\n",
       "        text-align: right;\n",
       "    }\n",
       "</style>\n",
       "<table border=\"1\" class=\"dataframe\">\n",
       "  <thead>\n",
       "    <tr style=\"text-align: right;\">\n",
       "      <th></th>\n",
       "      <th>WHO Region</th>\n",
       "    </tr>\n",
       "  </thead>\n",
       "  <tbody>\n",
       "    <tr>\n",
       "      <th>Americas</th>\n",
       "      <td>56</td>\n",
       "    </tr>\n",
       "  </tbody>\n",
       "</table>\n",
       "</div>"
      ],
      "text/plain": [
       "          WHO Region\n",
       "Americas          56"
      ]
     },
     "execution_count": 8,
     "metadata": {},
     "output_type": "execute_result"
    }
   ],
   "source": [
    "#number of countries in America's region \n",
    "new_file[\"WHO Region\"].value_counts().to_frame()"
   ]
  },
  {
   "cell_type": "code",
   "execution_count": 9,
   "id": "mexican-pierce",
   "metadata": {},
   "outputs": [
    {
     "data": {
      "text/html": [
       "<div>\n",
       "<style scoped>\n",
       "    .dataframe tbody tr th:only-of-type {\n",
       "        vertical-align: middle;\n",
       "    }\n",
       "\n",
       "    .dataframe tbody tr th {\n",
       "        vertical-align: top;\n",
       "    }\n",
       "\n",
       "    .dataframe thead th {\n",
       "        text-align: right;\n",
       "    }\n",
       "</style>\n",
       "<table border=\"1\" class=\"dataframe\">\n",
       "  <thead>\n",
       "    <tr style=\"text-align: right;\">\n",
       "      <th></th>\n",
       "      <th>Cases(Cum.Total)</th>\n",
       "      <th>Cases(Cum.Total)per 100000 population</th>\n",
       "      <th>Cases(last 7 days)</th>\n",
       "      <th>Cases(last 7 days)per 100000 population</th>\n",
       "      <th>Cases(last 24 hours)</th>\n",
       "      <th>Deaths(Cum.Total)</th>\n",
       "      <th>Deaths(Cum.Total) per 100000 population</th>\n",
       "      <th>Deaths - newly reported in last 7 days</th>\n",
       "      <th>Deaths(last 7 days)per 100000 population</th>\n",
       "      <th>Deaths(last 24 hours)</th>\n",
       "    </tr>\n",
       "  </thead>\n",
       "  <tbody>\n",
       "    <tr>\n",
       "      <th>count</th>\n",
       "      <td>5.600000e+01</td>\n",
       "      <td>56.000000</td>\n",
       "      <td>56.000000</td>\n",
       "      <td>56.000000</td>\n",
       "      <td>56.000000</td>\n",
       "      <td>56.000000</td>\n",
       "      <td>56.000000</td>\n",
       "      <td>56.000000</td>\n",
       "      <td>56.000000</td>\n",
       "      <td>56.000000</td>\n",
       "    </tr>\n",
       "    <tr>\n",
       "      <th>mean</th>\n",
       "      <td>1.311608e+06</td>\n",
       "      <td>4099.591964</td>\n",
       "      <td>17272.714286</td>\n",
       "      <td>90.348393</td>\n",
       "      <td>2733.410714</td>\n",
       "      <td>34481.214286</td>\n",
       "      <td>77.229286</td>\n",
       "      <td>451.392857</td>\n",
       "      <td>1.582500</td>\n",
       "      <td>70.035714</td>\n",
       "    </tr>\n",
       "    <tr>\n",
       "      <th>std</th>\n",
       "      <td>5.112890e+06</td>\n",
       "      <td>3312.030801</td>\n",
       "      <td>55956.745585</td>\n",
       "      <td>202.678019</td>\n",
       "      <td>8633.177160</td>\n",
       "      <td>112121.113116</td>\n",
       "      <td>95.639841</td>\n",
       "      <td>1547.820305</td>\n",
       "      <td>2.377306</td>\n",
       "      <td>240.557305</td>\n",
       "    </tr>\n",
       "    <tr>\n",
       "      <th>min</th>\n",
       "      <td>7.000000e+00</td>\n",
       "      <td>102.940000</td>\n",
       "      <td>0.000000</td>\n",
       "      <td>0.000000</td>\n",
       "      <td>-9.000000</td>\n",
       "      <td>0.000000</td>\n",
       "      <td>0.000000</td>\n",
       "      <td>0.000000</td>\n",
       "      <td>0.000000</td>\n",
       "      <td>0.000000</td>\n",
       "    </tr>\n",
       "    <tr>\n",
       "      <th>25%</th>\n",
       "      <td>2.086500e+03</td>\n",
       "      <td>1395.055000</td>\n",
       "      <td>10.750000</td>\n",
       "      <td>9.005000</td>\n",
       "      <td>0.000000</td>\n",
       "      <td>17.750000</td>\n",
       "      <td>11.247500</td>\n",
       "      <td>0.000000</td>\n",
       "      <td>0.000000</td>\n",
       "      <td>0.000000</td>\n",
       "    </tr>\n",
       "    <tr>\n",
       "      <th>50%</th>\n",
       "      <td>1.556400e+04</td>\n",
       "      <td>3181.080000</td>\n",
       "      <td>310.000000</td>\n",
       "      <td>33.020000</td>\n",
       "      <td>25.000000</td>\n",
       "      <td>261.000000</td>\n",
       "      <td>53.310000</td>\n",
       "      <td>3.500000</td>\n",
       "      <td>0.445000</td>\n",
       "      <td>0.000000</td>\n",
       "    </tr>\n",
       "    <tr>\n",
       "      <th>75%</th>\n",
       "      <td>3.425358e+05</td>\n",
       "      <td>6268.192500</td>\n",
       "      <td>7568.250000</td>\n",
       "      <td>92.862500</td>\n",
       "      <td>955.500000</td>\n",
       "      <td>5968.250000</td>\n",
       "      <td>93.797500</td>\n",
       "      <td>122.250000</td>\n",
       "      <td>1.912500</td>\n",
       "      <td>18.500000</td>\n",
       "    </tr>\n",
       "    <tr>\n",
       "      <th>max</th>\n",
       "      <td>3.345196e+07</td>\n",
       "      <td>10785.670000</td>\n",
       "      <td>351896.000000</td>\n",
       "      <td>1465.090000</td>\n",
       "      <td>54022.000000</td>\n",
       "      <td>601231.000000</td>\n",
       "      <td>587.600000</td>\n",
       "      <td>10474.000000</td>\n",
       "      <td>10.520000</td>\n",
       "      <td>1648.000000</td>\n",
       "    </tr>\n",
       "  </tbody>\n",
       "</table>\n",
       "</div>"
      ],
      "text/plain": [
       "       Cases(Cum.Total)  Cases(Cum.Total)per 100000 population  \\\n",
       "count      5.600000e+01                              56.000000   \n",
       "mean       1.311608e+06                            4099.591964   \n",
       "std        5.112890e+06                            3312.030801   \n",
       "min        7.000000e+00                             102.940000   \n",
       "25%        2.086500e+03                            1395.055000   \n",
       "50%        1.556400e+04                            3181.080000   \n",
       "75%        3.425358e+05                            6268.192500   \n",
       "max        3.345196e+07                           10785.670000   \n",
       "\n",
       "       Cases(last 7 days)  Cases(last 7 days)per 100000 population  \\\n",
       "count           56.000000                                56.000000   \n",
       "mean         17272.714286                                90.348393   \n",
       "std          55956.745585                               202.678019   \n",
       "min              0.000000                                 0.000000   \n",
       "25%             10.750000                                 9.005000   \n",
       "50%            310.000000                                33.020000   \n",
       "75%           7568.250000                                92.862500   \n",
       "max         351896.000000                              1465.090000   \n",
       "\n",
       "       Cases(last 24 hours)  Deaths(Cum.Total)  \\\n",
       "count             56.000000          56.000000   \n",
       "mean            2733.410714       34481.214286   \n",
       "std             8633.177160      112121.113116   \n",
       "min               -9.000000           0.000000   \n",
       "25%                0.000000          17.750000   \n",
       "50%               25.000000         261.000000   \n",
       "75%              955.500000        5968.250000   \n",
       "max            54022.000000      601231.000000   \n",
       "\n",
       "       Deaths(Cum.Total) per 100000 population  \\\n",
       "count                                56.000000   \n",
       "mean                                 77.229286   \n",
       "std                                  95.639841   \n",
       "min                                   0.000000   \n",
       "25%                                  11.247500   \n",
       "50%                                  53.310000   \n",
       "75%                                  93.797500   \n",
       "max                                 587.600000   \n",
       "\n",
       "       Deaths - newly reported in last 7 days  \\\n",
       "count                               56.000000   \n",
       "mean                               451.392857   \n",
       "std                               1547.820305   \n",
       "min                                  0.000000   \n",
       "25%                                  0.000000   \n",
       "50%                                  3.500000   \n",
       "75%                                122.250000   \n",
       "max                              10474.000000   \n",
       "\n",
       "       Deaths(last 7 days)per 100000 population  Deaths(last 24 hours)  \n",
       "count                                 56.000000              56.000000  \n",
       "mean                                   1.582500              70.035714  \n",
       "std                                    2.377306             240.557305  \n",
       "min                                    0.000000               0.000000  \n",
       "25%                                    0.000000               0.000000  \n",
       "50%                                    0.445000               0.000000  \n",
       "75%                                    1.912500              18.500000  \n",
       "max                                   10.520000            1648.000000  "
      ]
     },
     "execution_count": 9,
     "metadata": {},
     "output_type": "execute_result"
    }
   ],
   "source": [
    "#dataset description\n",
    "new_file.describe()"
   ]
  },
  {
   "cell_type": "code",
   "execution_count": 10,
   "id": "laughing-insertion",
   "metadata": {
    "scrolled": true
   },
   "outputs": [
    {
     "data": {
      "text/html": [
       "<div>\n",
       "<style scoped>\n",
       "    .dataframe tbody tr th:only-of-type {\n",
       "        vertical-align: middle;\n",
       "    }\n",
       "\n",
       "    .dataframe tbody tr th {\n",
       "        vertical-align: top;\n",
       "    }\n",
       "\n",
       "    .dataframe thead th {\n",
       "        text-align: right;\n",
       "    }\n",
       "</style>\n",
       "<table border=\"1\" class=\"dataframe\">\n",
       "  <thead>\n",
       "    <tr style=\"text-align: right;\">\n",
       "      <th></th>\n",
       "      <th>Transmission Classification</th>\n",
       "    </tr>\n",
       "  </thead>\n",
       "  <tbody>\n",
       "    <tr>\n",
       "      <th>Community transmission</th>\n",
       "      <td>42</td>\n",
       "    </tr>\n",
       "    <tr>\n",
       "      <th>Sporadic cases</th>\n",
       "      <td>5</td>\n",
       "    </tr>\n",
       "    <tr>\n",
       "      <th>Clusters of cases</th>\n",
       "      <td>5</td>\n",
       "    </tr>\n",
       "    <tr>\n",
       "      <th>No cases</th>\n",
       "      <td>4</td>\n",
       "    </tr>\n",
       "  </tbody>\n",
       "</table>\n",
       "</div>"
      ],
      "text/plain": [
       "                        Transmission Classification\n",
       "Community transmission                           42\n",
       "Sporadic cases                                    5\n",
       "Clusters of cases                                 5\n",
       "No cases                                          4"
      ]
     },
     "execution_count": 10,
     "metadata": {},
     "output_type": "execute_result"
    }
   ],
   "source": [
    "#transmission classification\n",
    "new_file[\"Transmission Classification\"].value_counts().to_frame()"
   ]
  },
  {
   "cell_type": "code",
   "execution_count": 11,
   "id": "toxic-printer",
   "metadata": {},
   "outputs": [
    {
     "data": {
      "text/html": [
       "<div>\n",
       "<style scoped>\n",
       "    .dataframe tbody tr th:only-of-type {\n",
       "        vertical-align: middle;\n",
       "    }\n",
       "\n",
       "    .dataframe tbody tr th {\n",
       "        vertical-align: top;\n",
       "    }\n",
       "\n",
       "    .dataframe thead th {\n",
       "        text-align: right;\n",
       "    }\n",
       "</style>\n",
       "<table border=\"1\" class=\"dataframe\">\n",
       "  <thead>\n",
       "    <tr style=\"text-align: right;\">\n",
       "      <th></th>\n",
       "      <th>Country</th>\n",
       "      <th>Deaths(last 24 hours)</th>\n",
       "    </tr>\n",
       "  </thead>\n",
       "  <tbody>\n",
       "    <tr>\n",
       "      <th>3</th>\n",
       "      <td>Brazil</td>\n",
       "      <td>1648</td>\n",
       "    </tr>\n",
       "    <tr>\n",
       "      <th>9</th>\n",
       "      <td>Colombia</td>\n",
       "      <td>559</td>\n",
       "    </tr>\n",
       "    <tr>\n",
       "      <th>8</th>\n",
       "      <td>Argentina</td>\n",
       "      <td>456</td>\n",
       "    </tr>\n",
       "    <tr>\n",
       "      <th>1</th>\n",
       "      <td>United States of America</td>\n",
       "      <td>301</td>\n",
       "    </tr>\n",
       "    <tr>\n",
       "      <th>15</th>\n",
       "      <td>Mexico</td>\n",
       "      <td>234</td>\n",
       "    </tr>\n",
       "  </tbody>\n",
       "</table>\n",
       "</div>"
      ],
      "text/plain": [
       "                     Country  Deaths(last 24 hours)\n",
       "3                     Brazil                   1648\n",
       "9                   Colombia                    559\n",
       "8                  Argentina                    456\n",
       "1   United States of America                    301\n",
       "15                    Mexico                    234"
      ]
     },
     "execution_count": 11,
     "metadata": {},
     "output_type": "execute_result"
    }
   ],
   "source": [
    "#country with highest number of deaths reported in the last 24hrs against transmission classification\n",
    "death_24hrs=new_file[['Country','Deaths(last 24 hours)']]\n",
    "highdeath_24hrs = death_24hrs.sort_values(by=['Deaths(last 24 hours)'], ascending= False)\n",
    "# a. check first \n",
    "highdeath_24hrs.head()"
   ]
  },
  {
   "cell_type": "code",
   "execution_count": 12,
   "id": "assisted-textbook",
   "metadata": {},
   "outputs": [],
   "source": [
    "#import model library\n",
    "from sklearn.linear_model import LinearRegression"
   ]
  },
  {
   "cell_type": "code",
   "execution_count": 13,
   "id": "special-clarity",
   "metadata": {},
   "outputs": [
    {
     "data": {
      "text/plain": [
       "LinearRegression()"
      ]
     },
     "execution_count": 13,
     "metadata": {},
     "output_type": "execute_result"
    }
   ],
   "source": [
    "#Using Newly reported cases in last 24 hours to predict deaths in the next 24 hours\n",
    "x = new_file[['Cases(last 24 hours)']]\n",
    "y = new_file['Deaths(last 24 hours)'] \n",
    "lm = LinearRegression() \n",
    "lm.fit(x,y)\n",
    "lm"
   ]
  },
  {
   "cell_type": "code",
   "execution_count": 14,
   "id": "greenhouse-purchase",
   "metadata": {},
   "outputs": [
    {
     "data": {
      "text/plain": [
       "-4.010264462076975"
      ]
     },
     "execution_count": 14,
     "metadata": {},
     "output_type": "execute_result"
    }
   ],
   "source": [
    "#Calculating the value of the intercept, c\n",
    "lm.intercept_"
   ]
  },
  {
   "cell_type": "code",
   "execution_count": 15,
   "id": "alert-reynolds",
   "metadata": {},
   "outputs": [
    {
     "data": {
      "text/plain": [
       "array([0.02708923])"
      ]
     },
     "execution_count": 15,
     "metadata": {},
     "output_type": "execute_result"
    }
   ],
   "source": [
    "#Calculating the value of the slope, m\n",
    "lm.coef_"
   ]
  },
  {
   "cell_type": "markdown",
   "id": "adaptive-history",
   "metadata": {},
   "source": [
    "Model Formular;"
   ]
  },
  {
   "cell_type": "code",
   "execution_count": 16,
   "id": "incident-israel",
   "metadata": {},
   "outputs": [
    {
     "data": {
      "text/html": [
       "<div>\n",
       "<style scoped>\n",
       "    .dataframe tbody tr th:only-of-type {\n",
       "        vertical-align: middle;\n",
       "    }\n",
       "\n",
       "    .dataframe tbody tr th {\n",
       "        vertical-align: top;\n",
       "    }\n",
       "\n",
       "    .dataframe thead th {\n",
       "        text-align: right;\n",
       "    }\n",
       "</style>\n",
       "<table border=\"1\" class=\"dataframe\">\n",
       "  <thead>\n",
       "    <tr style=\"text-align: right;\">\n",
       "      <th></th>\n",
       "      <th>Cases(last 24 hours)</th>\n",
       "      <th>Deaths(last 24 hours)</th>\n",
       "    </tr>\n",
       "  </thead>\n",
       "  <tbody>\n",
       "    <tr>\n",
       "      <th>Cases(last 24 hours)</th>\n",
       "      <td>1.000000</td>\n",
       "      <td>0.972184</td>\n",
       "    </tr>\n",
       "    <tr>\n",
       "      <th>Deaths(last 24 hours)</th>\n",
       "      <td>0.972184</td>\n",
       "      <td>1.000000</td>\n",
       "    </tr>\n",
       "  </tbody>\n",
       "</table>\n",
       "</div>"
      ],
      "text/plain": [
       "                       Cases(last 24 hours)  Deaths(last 24 hours)\n",
       "Cases(last 24 hours)               1.000000               0.972184\n",
       "Deaths(last 24 hours)              0.972184               1.000000"
      ]
     },
     "execution_count": 16,
     "metadata": {},
     "output_type": "execute_result"
    }
   ],
   "source": [
    "#correlation\n",
    "new_file[['Cases(last 24 hours)','Deaths(last 24 hours)']].corr()"
   ]
  },
  {
   "cell_type": "code",
   "execution_count": 17,
   "id": "random-routine",
   "metadata": {},
   "outputs": [],
   "source": [
    "import matplotlib.pyplot as plt"
   ]
  },
  {
   "cell_type": "code",
   "execution_count": 18,
   "id": "regulation-celebrity",
   "metadata": {},
   "outputs": [
    {
     "data": {
      "text/plain": [
       "(0.0, 1731.0038874470122)"
      ]
     },
     "execution_count": 18,
     "metadata": {},
     "output_type": "execute_result"
    },
    {
     "data": {
      "image/png": "[encoded data removed]",
      "text/plain": [
       "<Figure size 432x288 with 1 Axes>"
      ]
     },
     "metadata": {
      "needs_background": "light"
     },
     "output_type": "display_data"
    }
   ],
   "source": [
    "#simple linear regression graph\n",
    "sns.regplot(x=\"Cases(last 24 hours)\", y=\"Deaths(last 24 hours)\", data=new_file)\n",
    "plt.ylim(0,)"
   ]
  },
  {
   "cell_type": "code",
   "execution_count": 19,
   "id": "sealed-block",
   "metadata": {},
   "outputs": [
    {
     "data": {
      "text/plain": [
       "<AxesSubplot:xlabel='Transmission Classification', ylabel='Deaths(Cum.Total)'>"
      ]
     },
     "execution_count": 19,
     "metadata": {},
     "output_type": "execute_result"
    },
    {
     "data": {
      "image/png": "[encoded data removed]",
      "text/plain": [
       "<Figure size 432x288 with 1 Axes>"
      ]
     },
     "metadata": {
      "needs_background": "light"
     },
     "output_type": "display_data"
    }
   ],
   "source": [
    "#plotting a box plot\n",
    "sns.boxplot(x=\"Transmission Classification\", y=\"Deaths(Cum.Total)\", data=new_file)"
   ]
  },
  {
   "cell_type": "markdown",
   "id": "stuffed-destruction",
   "metadata": {},
   "source": [
    "Model performance evaluation metrics"
   ]
  },
  {
   "cell_type": "code",
   "execution_count": 20,
   "id": "convenient-friday",
   "metadata": {},
   "outputs": [
    {
     "name": "stdout",
     "output_type": "stream",
     "text": [
      "The R-squared is:  0.9451426883656249\n"
     ]
    }
   ],
   "source": [
    "#Calculating R-squared\n",
    "print('The R-squared is: ', lm.score(x, y))"
   ]
  },
  {
   "cell_type": "code",
   "execution_count": 21,
   "id": "affiliated-nightlife",
   "metadata": {},
   "outputs": [],
   "source": [
    "#Let's import the function mean_squared_error % sqrt from the module metrics\n",
    "from sklearn.metrics import mean_squared_error #for calculating MSE\n",
    "from math import sqrt #for calculating RSME"
   ]
  },
  {
   "cell_type": "code",
   "execution_count": 23,
   "id": "sensitive-discount",
   "metadata": {},
   "outputs": [
    {
     "name": "stdout",
     "output_type": "stream",
     "text": [
      "Mean Squared Error: 3117.7858489231335\n"
     ]
    }
   ],
   "source": [
    "#calculating MSE\n",
    "y=lm.predict(x)\n",
    "mse = mean_squared_error(new_file['Deaths(last 24 hours)'], y)\n",
    "print('Mean Squared Error:', mse)"
   ]
  },
  {
   "cell_type": "code",
   "execution_count": 24,
   "id": "endless-allergy",
   "metadata": {},
   "outputs": [
    {
     "name": "stdout",
     "output_type": "stream",
     "text": [
      "Root Mean Squared Error: 55.8371368259793\n"
     ]
    }
   ],
   "source": [
    "#calculating RMSE\n",
    "#since; mse=sqrt(mean_squared_error(new_file['Deaths(last 24 hours'], y))\n",
    "print('Root Mean Squared Error:',sqrt(mse))"
   ]
  },
  {
   "cell_type": "markdown",
   "id": "english-taiwan",
   "metadata": {},
   "source": [
    " Multiple Linear Regression\n",
    "\n",
    "Predicting Deaths(last 24 hours) in America by looking at three variables;\n",
    "\n",
    "1. Cases reported in the last 24 hours; Cases(last 24 hours)\n",
    "2. Cases reported in the last 7 days; Cases(last 7 days) \n",
    "3. Total cumulative Cases reported; Cases(Cum.Total)\n",
    "\n"
   ]
  },
  {
   "cell_type": "code",
   "execution_count": 25,
   "id": "representative-bradford",
   "metadata": {},
   "outputs": [
    {
     "data": {
      "text/plain": [
       "LinearRegression()"
      ]
     },
     "execution_count": 25,
     "metadata": {},
     "output_type": "execute_result"
    }
   ],
   "source": [
    "# assign the variables identified above; in a new dataset,z\n",
    "z = new_file[['Cases(last 24 hours)','Cases(last 7 days)','Cases(Cum.Total)']]\n",
    "#Fitting the linear model using the three above variables.\n",
    "lm.fit(z, new_file['Deaths(last 24 hours)'])"
   ]
  },
  {
   "cell_type": "code",
   "execution_count": 26,
   "id": "noble-conditioning",
   "metadata": {},
   "outputs": [
    {
     "data": {
      "text/plain": [
       "-3.152937889926207"
      ]
     },
     "execution_count": 26,
     "metadata": {},
     "output_type": "execute_result"
    }
   ],
   "source": [
    "#Calculating the value of the intercept, c\n",
    "lm.intercept_"
   ]
  },
  {
   "cell_type": "code",
   "execution_count": 27,
   "id": "average-liver",
   "metadata": {},
   "outputs": [
    {
     "data": {
      "text/plain": [
       "array([ 4.70509139e-02, -2.10651332e-03, -1.45131908e-05])"
      ]
     },
     "execution_count": 27,
     "metadata": {},
     "output_type": "execute_result"
    }
   ],
   "source": [
    "#Calculating the value of the slope; b1,b2,b3\n",
    "lm.coef_"
   ]
  },
  {
   "cell_type": "markdown",
   "id": "modern-embassy",
   "metadata": {},
   "source": [
    "\n",
    "Model formular;"
   ]
  },
  {
   "cell_type": "markdown",
   "id": "ruled-stevens",
   "metadata": {},
   "source": [
    "\n",
    "Deaths(last 24 hours)= 4.70509139 * Cases(last 24 hours) - 2.10651332 * Cases(last 7 days) - 1.45131908 * Cases(Cum.Total) - 3.152937889926207\n"
   ]
  },
  {
   "cell_type": "code",
   "execution_count": 28,
   "id": "unknown-phoenix",
   "metadata": {},
   "outputs": [
    {
     "data": {
      "text/html": [
       "<div>\n",
       "<style scoped>\n",
       "    .dataframe tbody tr th:only-of-type {\n",
       "        vertical-align: middle;\n",
       "    }\n",
       "\n",
       "    .dataframe tbody tr th {\n",
       "        vertical-align: top;\n",
       "    }\n",
       "\n",
       "    .dataframe thead th {\n",
       "        text-align: right;\n",
       "    }\n",
       "</style>\n",
       "<table border=\"1\" class=\"dataframe\">\n",
       "  <thead>\n",
       "    <tr style=\"text-align: right;\">\n",
       "      <th></th>\n",
       "      <th>Cases(last 24 hours)</th>\n",
       "      <th>Cases(last 7 days)</th>\n",
       "      <th>Cases(Cum.Total)</th>\n",
       "    </tr>\n",
       "  </thead>\n",
       "  <tbody>\n",
       "    <tr>\n",
       "      <th>Cases(last 24 hours)</th>\n",
       "      <td>1.000000</td>\n",
       "      <td>0.992458</td>\n",
       "      <td>0.745889</td>\n",
       "    </tr>\n",
       "    <tr>\n",
       "      <th>Cases(last 7 days)</th>\n",
       "      <td>0.992458</td>\n",
       "      <td>1.000000</td>\n",
       "      <td>0.673512</td>\n",
       "    </tr>\n",
       "    <tr>\n",
       "      <th>Cases(Cum.Total)</th>\n",
       "      <td>0.745889</td>\n",
       "      <td>0.673512</td>\n",
       "      <td>1.000000</td>\n",
       "    </tr>\n",
       "  </tbody>\n",
       "</table>\n",
       "</div>"
      ],
      "text/plain": [
       "                      Cases(last 24 hours)  Cases(last 7 days)  \\\n",
       "Cases(last 24 hours)              1.000000            0.992458   \n",
       "Cases(last 7 days)                0.992458            1.000000   \n",
       "Cases(Cum.Total)                  0.745889            0.673512   \n",
       "\n",
       "                      Cases(Cum.Total)  \n",
       "Cases(last 24 hours)          0.745889  \n",
       "Cases(last 7 days)            0.673512  \n",
       "Cases(Cum.Total)              1.000000  "
      ]
     },
     "execution_count": 28,
     "metadata": {},
     "output_type": "execute_result"
    }
   ],
   "source": [
    "#correlation\n",
    "new_file[['Cases(last 24 hours)','Cases(last 7 days)','Cases(Cum.Total)']].corr()"
   ]
  },
  {
   "cell_type": "markdown",
   "id": "floral-raleigh",
   "metadata": {},
   "source": [
    "Model performance evaluation metrics"
   ]
  },
  {
   "cell_type": "code",
   "execution_count": 29,
   "id": "fitted-contributor",
   "metadata": {},
   "outputs": [
    {
     "name": "stdout",
     "output_type": "stream",
     "text": [
      "The R-squared is: 0.9707863962523477\n"
     ]
    }
   ],
   "source": [
    "#calculating R-squared\n",
    "print('The R-squared is:',lm.score(z, new_file['Deaths(last 24 hours)']))"
   ]
  },
  {
   "cell_type": "code",
   "execution_count": 30,
   "id": "dying-voltage",
   "metadata": {},
   "outputs": [
    {
     "name": "stdout",
     "output_type": "stream",
     "text": [
      "Mean Squared Error: 1660.3394815906993\n"
     ]
    }
   ],
   "source": [
    "#Calculating the Mean Squared Error; MSE\n",
    "#prediction based on our model\n",
    "y_predict_multifit = lm.predict(z)\n",
    "#Now we can compare the predicted results with the actual results and print\n",
    "mse=mean_squared_error(new_file['Deaths(last 24 hours)'], y_predict_multifit)\n",
    "print('Mean Squared Error:',mse)"
   ]
  },
  {
   "cell_type": "code",
   "execution_count": 33,
   "id": "awful-secretariat",
   "metadata": {},
   "outputs": [
    {
     "name": "stdout",
     "output_type": "stream",
     "text": [
      "Root Mean Squared Error: 40.74726348591644\n"
     ]
    }
   ],
   "source": [
    "#calculating RMSE\n",
    "#since mse=mean_squared_error(new_file['Deaths(last 24 hours)'], y_predict_multifit), we call mse\n",
    "print('Root Mean Squared Error:',sqrt(mse))"
   ]
  },
  {
   "cell_type": "markdown",
   "id": "failing-amber",
   "metadata": {},
   "source": [
    "Conclusion"
   ]
  },
  {
   "cell_type": "markdown",
   "id": "local-thought",
   "metadata": {},
   "source": [
    "\n",
    "Decision making;\n",
    "\n",
    "A model with a a high R-squared and low RMSE is the best.\n",
    "\n",
    "From the table above, comparing the two models; Multiple Linear Regression Model is the best because it has an accuracy (R-Squared) percenatge of approximately 97.07% with a low RSME of approximately 40.7473\n",
    "\n",
    "Therefore, The model for predicting Covid_19 daily deaths in America is;\n",
    "Deaths(last 24 hours)= 4.70509139 * Cases(last 24 hours) - 2.10651332 * Cases(last 7 days) - 1.45131908 * Cases(Cum.Total) - 3.152937889926207 $$\n",
    "\n",
    "\n",
    "\n"
   ]
  }
 ],
 "metadata": {
  "kernelspec": {
   "display_name": "Python 3",
   "language": "python",
   "name": "python3"
  },
  "language_info": {
   "codemirror_mode": {
    "name": "ipython",
    "version": 3
   },
   "file_extension": ".py",
   "mimetype": "text/x-python",
   "name": "python",
   "nbconvert_exporter": "python",
   "pygments_lexer": "ipython3",
   "version": "3.6.13"
  }
 },
 "nbformat": 4,
 "nbformat_minor": 5
}
